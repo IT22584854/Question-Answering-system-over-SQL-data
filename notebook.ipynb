{
 "cells": [
  {
   "cell_type": "code",
   "execution_count": 5,
   "id": "972f62c0",
   "metadata": {},
   "outputs": [
    {
     "name": "stdout",
     "output_type": "stream",
     "text": [
      "Requirement already satisfied: langchain-community in c:\\users\\sheha\\anaconda3\\envs\\bprmlsrash\\lib\\site-packages (from -r requirements.txt (line 1)) (0.3.29)\n",
      "Requirement already satisfied: python-dotenv in c:\\users\\sheha\\anaconda3\\envs\\bprmlsrash\\lib\\site-packages (from -r requirements.txt (line 3)) (1.1.1)\n",
      "Requirement already satisfied: langchain[google-genai] in c:\\users\\sheha\\anaconda3\\envs\\bprmlsrash\\lib\\site-packages (from -r requirements.txt (line 2)) (0.3.27)\n",
      "Requirement already satisfied: langchain-core<2.0.0,>=0.3.75 in c:\\users\\sheha\\anaconda3\\envs\\bprmlsrash\\lib\\site-packages (from langchain-community->-r requirements.txt (line 1)) (0.3.75)\n",
      "Requirement already satisfied: SQLAlchemy<3,>=1.4 in c:\\users\\sheha\\anaconda3\\envs\\bprmlsrash\\lib\\site-packages (from langchain-community->-r requirements.txt (line 1)) (2.0.43)\n",
      "Requirement already satisfied: requests<3,>=2.32.5 in c:\\users\\sheha\\anaconda3\\envs\\bprmlsrash\\lib\\site-packages (from langchain-community->-r requirements.txt (line 1)) (2.32.5)\n",
      "Requirement already satisfied: PyYAML>=5.3 in c:\\users\\sheha\\anaconda3\\envs\\bprmlsrash\\lib\\site-packages (from langchain-community->-r requirements.txt (line 1)) (6.0.2)\n",
      "Requirement already satisfied: aiohttp<4.0.0,>=3.8.3 in c:\\users\\sheha\\anaconda3\\envs\\bprmlsrash\\lib\\site-packages (from langchain-community->-r requirements.txt (line 1)) (3.12.15)\n",
      "Requirement already satisfied: tenacity!=8.4.0,<10,>=8.1.0 in c:\\users\\sheha\\anaconda3\\envs\\bprmlsrash\\lib\\site-packages (from langchain-community->-r requirements.txt (line 1)) (9.1.2)\n",
      "Requirement already satisfied: dataclasses-json<0.7,>=0.6.7 in c:\\users\\sheha\\anaconda3\\envs\\bprmlsrash\\lib\\site-packages (from langchain-community->-r requirements.txt (line 1)) (0.6.7)\n",
      "Requirement already satisfied: pydantic-settings<3.0.0,>=2.10.1 in c:\\users\\sheha\\anaconda3\\envs\\bprmlsrash\\lib\\site-packages (from langchain-community->-r requirements.txt (line 1)) (2.10.1)\n",
      "Requirement already satisfied: langsmith>=0.1.125 in c:\\users\\sheha\\anaconda3\\envs\\bprmlsrash\\lib\\site-packages (from langchain-community->-r requirements.txt (line 1)) (0.4.21)\n",
      "Requirement already satisfied: httpx-sse<1.0.0,>=0.4.0 in c:\\users\\sheha\\anaconda3\\envs\\bprmlsrash\\lib\\site-packages (from langchain-community->-r requirements.txt (line 1)) (0.4.1)\n",
      "Requirement already satisfied: numpy>=1.26.2 in c:\\users\\sheha\\anaconda3\\envs\\bprmlsrash\\lib\\site-packages (from langchain-community->-r requirements.txt (line 1)) (2.3.1)\n",
      "Requirement already satisfied: aiohappyeyeballs>=2.5.0 in c:\\users\\sheha\\anaconda3\\envs\\bprmlsrash\\lib\\site-packages (from aiohttp<4.0.0,>=3.8.3->langchain-community->-r requirements.txt (line 1)) (2.6.1)\n",
      "Requirement already satisfied: aiosignal>=1.4.0 in c:\\users\\sheha\\anaconda3\\envs\\bprmlsrash\\lib\\site-packages (from aiohttp<4.0.0,>=3.8.3->langchain-community->-r requirements.txt (line 1)) (1.4.0)\n",
      "Requirement already satisfied: attrs>=17.3.0 in c:\\users\\sheha\\anaconda3\\envs\\bprmlsrash\\lib\\site-packages (from aiohttp<4.0.0,>=3.8.3->langchain-community->-r requirements.txt (line 1)) (25.3.0)\n",
      "Requirement already satisfied: frozenlist>=1.1.1 in c:\\users\\sheha\\anaconda3\\envs\\bprmlsrash\\lib\\site-packages (from aiohttp<4.0.0,>=3.8.3->langchain-community->-r requirements.txt (line 1)) (1.7.0)\n",
      "Requirement already satisfied: multidict<7.0,>=4.5 in c:\\users\\sheha\\anaconda3\\envs\\bprmlsrash\\lib\\site-packages (from aiohttp<4.0.0,>=3.8.3->langchain-community->-r requirements.txt (line 1)) (6.6.4)\n",
      "Requirement already satisfied: propcache>=0.2.0 in c:\\users\\sheha\\anaconda3\\envs\\bprmlsrash\\lib\\site-packages (from aiohttp<4.0.0,>=3.8.3->langchain-community->-r requirements.txt (line 1)) (0.3.2)\n",
      "Requirement already satisfied: yarl<2.0,>=1.17.0 in c:\\users\\sheha\\anaconda3\\envs\\bprmlsrash\\lib\\site-packages (from aiohttp<4.0.0,>=3.8.3->langchain-community->-r requirements.txt (line 1)) (1.20.1)\n",
      "Requirement already satisfied: marshmallow<4.0.0,>=3.18.0 in c:\\users\\sheha\\anaconda3\\envs\\bprmlsrash\\lib\\site-packages (from dataclasses-json<0.7,>=0.6.7->langchain-community->-r requirements.txt (line 1)) (3.26.1)\n",
      "Requirement already satisfied: typing-inspect<1,>=0.4.0 in c:\\users\\sheha\\anaconda3\\envs\\bprmlsrash\\lib\\site-packages (from dataclasses-json<0.7,>=0.6.7->langchain-community->-r requirements.txt (line 1)) (0.9.0)\n",
      "Requirement already satisfied: langchain-text-splitters<1.0.0,>=0.3.9 in c:\\users\\sheha\\anaconda3\\envs\\bprmlsrash\\lib\\site-packages (from langchain[google-genai]->-r requirements.txt (line 2)) (0.3.11)\n",
      "Requirement already satisfied: pydantic<3.0.0,>=2.7.4 in c:\\users\\sheha\\anaconda3\\envs\\bprmlsrash\\lib\\site-packages (from langchain[google-genai]->-r requirements.txt (line 2)) (2.11.7)\n",
      "Requirement already satisfied: jsonpatch<2.0,>=1.33 in c:\\users\\sheha\\anaconda3\\envs\\bprmlsrash\\lib\\site-packages (from langchain-core<2.0.0,>=0.3.75->langchain-community->-r requirements.txt (line 1)) (1.33)\n",
      "Requirement already satisfied: typing-extensions>=4.7 in c:\\users\\sheha\\anaconda3\\envs\\bprmlsrash\\lib\\site-packages (from langchain-core<2.0.0,>=0.3.75->langchain-community->-r requirements.txt (line 1)) (4.14.1)\n",
      "Requirement already satisfied: packaging>=23.2 in c:\\users\\sheha\\anaconda3\\envs\\bprmlsrash\\lib\\site-packages (from langchain-core<2.0.0,>=0.3.75->langchain-community->-r requirements.txt (line 1)) (25.0)\n",
      "Requirement already satisfied: jsonpointer>=1.9 in c:\\users\\sheha\\anaconda3\\envs\\bprmlsrash\\lib\\site-packages (from jsonpatch<2.0,>=1.33->langchain-core<2.0.0,>=0.3.75->langchain-community->-r requirements.txt (line 1)) (3.0.0)\n",
      "Requirement already satisfied: annotated-types>=0.6.0 in c:\\users\\sheha\\anaconda3\\envs\\bprmlsrash\\lib\\site-packages (from pydantic<3.0.0,>=2.7.4->langchain[google-genai]->-r requirements.txt (line 2)) (0.7.0)\n",
      "Requirement already satisfied: pydantic-core==2.33.2 in c:\\users\\sheha\\anaconda3\\envs\\bprmlsrash\\lib\\site-packages (from pydantic<3.0.0,>=2.7.4->langchain[google-genai]->-r requirements.txt (line 2)) (2.33.2)\n",
      "Requirement already satisfied: typing-inspection>=0.4.0 in c:\\users\\sheha\\anaconda3\\envs\\bprmlsrash\\lib\\site-packages (from pydantic<3.0.0,>=2.7.4->langchain[google-genai]->-r requirements.txt (line 2)) (0.4.1)\n",
      "Requirement already satisfied: charset_normalizer<4,>=2 in c:\\users\\sheha\\anaconda3\\envs\\bprmlsrash\\lib\\site-packages (from requests<3,>=2.32.5->langchain-community->-r requirements.txt (line 1)) (3.4.2)\n",
      "Requirement already satisfied: idna<4,>=2.5 in c:\\users\\sheha\\anaconda3\\envs\\bprmlsrash\\lib\\site-packages (from requests<3,>=2.32.5->langchain-community->-r requirements.txt (line 1)) (3.10)\n",
      "Requirement already satisfied: urllib3<3,>=1.21.1 in c:\\users\\sheha\\anaconda3\\envs\\bprmlsrash\\lib\\site-packages (from requests<3,>=2.32.5->langchain-community->-r requirements.txt (line 1)) (2.5.0)\n",
      "Requirement already satisfied: certifi>=2017.4.17 in c:\\users\\sheha\\anaconda3\\envs\\bprmlsrash\\lib\\site-packages (from requests<3,>=2.32.5->langchain-community->-r requirements.txt (line 1)) (2025.7.14)\n",
      "Requirement already satisfied: greenlet>=1 in c:\\users\\sheha\\anaconda3\\envs\\bprmlsrash\\lib\\site-packages (from SQLAlchemy<3,>=1.4->langchain-community->-r requirements.txt (line 1)) (3.2.4)\n",
      "Requirement already satisfied: mypy-extensions>=0.3.0 in c:\\users\\sheha\\anaconda3\\envs\\bprmlsrash\\lib\\site-packages (from typing-inspect<1,>=0.4.0->dataclasses-json<0.7,>=0.6.7->langchain-community->-r requirements.txt (line 1)) (1.1.0)\n",
      "Requirement already satisfied: langchain-google-genai in c:\\users\\sheha\\anaconda3\\envs\\bprmlsrash\\lib\\site-packages (from langchain[google-genai]->-r requirements.txt (line 2)) (2.1.10)\n",
      "Requirement already satisfied: httpx<1,>=0.23.0 in c:\\users\\sheha\\anaconda3\\envs\\bprmlsrash\\lib\\site-packages (from langsmith>=0.1.125->langchain-community->-r requirements.txt (line 1)) (0.28.1)\n",
      "Requirement already satisfied: orjson>=3.9.14 in c:\\users\\sheha\\anaconda3\\envs\\bprmlsrash\\lib\\site-packages (from langsmith>=0.1.125->langchain-community->-r requirements.txt (line 1)) (3.11.3)\n",
      "Requirement already satisfied: requests-toolbelt>=1.0.0 in c:\\users\\sheha\\anaconda3\\envs\\bprmlsrash\\lib\\site-packages (from langsmith>=0.1.125->langchain-community->-r requirements.txt (line 1)) (1.0.0)\n",
      "Requirement already satisfied: zstandard>=0.23.0 in c:\\users\\sheha\\anaconda3\\envs\\bprmlsrash\\lib\\site-packages (from langsmith>=0.1.125->langchain-community->-r requirements.txt (line 1)) (0.24.0)\n",
      "Requirement already satisfied: anyio in c:\\users\\sheha\\anaconda3\\envs\\bprmlsrash\\lib\\site-packages (from httpx<1,>=0.23.0->langsmith>=0.1.125->langchain-community->-r requirements.txt (line 1)) (4.9.0)\n",
      "Requirement already satisfied: httpcore==1.* in c:\\users\\sheha\\anaconda3\\envs\\bprmlsrash\\lib\\site-packages (from httpx<1,>=0.23.0->langsmith>=0.1.125->langchain-community->-r requirements.txt (line 1)) (1.0.9)\n",
      "Requirement already satisfied: h11>=0.16 in c:\\users\\sheha\\anaconda3\\envs\\bprmlsrash\\lib\\site-packages (from httpcore==1.*->httpx<1,>=0.23.0->langsmith>=0.1.125->langchain-community->-r requirements.txt (line 1)) (0.16.0)\n",
      "Requirement already satisfied: sniffio>=1.1 in c:\\users\\sheha\\anaconda3\\envs\\bprmlsrash\\lib\\site-packages (from anyio->httpx<1,>=0.23.0->langsmith>=0.1.125->langchain-community->-r requirements.txt (line 1)) (1.3.1)\n",
      "Requirement already satisfied: filetype<2.0.0,>=1.2.0 in c:\\users\\sheha\\anaconda3\\envs\\bprmlsrash\\lib\\site-packages (from langchain-google-genai->langchain[google-genai]->-r requirements.txt (line 2)) (1.2.0)\n",
      "Requirement already satisfied: google-ai-generativelanguage<0.7.0,>=0.6.18 in c:\\users\\sheha\\anaconda3\\envs\\bprmlsrash\\lib\\site-packages (from langchain-google-genai->langchain[google-genai]->-r requirements.txt (line 2)) (0.6.18)\n",
      "Requirement already satisfied: google-api-core!=2.0.*,!=2.1.*,!=2.10.*,!=2.2.*,!=2.3.*,!=2.4.*,!=2.5.*,!=2.6.*,!=2.7.*,!=2.8.*,!=2.9.*,<3.0.0,>=1.34.1 in c:\\users\\sheha\\anaconda3\\envs\\bprmlsrash\\lib\\site-packages (from google-api-core[grpc]!=2.0.*,!=2.1.*,!=2.10.*,!=2.2.*,!=2.3.*,!=2.4.*,!=2.5.*,!=2.6.*,!=2.7.*,!=2.8.*,!=2.9.*,<3.0.0,>=1.34.1->google-ai-generativelanguage<0.7.0,>=0.6.18->langchain-google-genai->langchain[google-genai]->-r requirements.txt (line 2)) (2.25.1)\n",
      "Requirement already satisfied: google-auth!=2.24.0,!=2.25.0,<3.0.0,>=2.14.1 in c:\\users\\sheha\\anaconda3\\envs\\bprmlsrash\\lib\\site-packages (from google-ai-generativelanguage<0.7.0,>=0.6.18->langchain-google-genai->langchain[google-genai]->-r requirements.txt (line 2)) (2.40.3)\n",
      "Requirement already satisfied: proto-plus<2.0.0,>=1.22.3 in c:\\users\\sheha\\anaconda3\\envs\\bprmlsrash\\lib\\site-packages (from google-ai-generativelanguage<0.7.0,>=0.6.18->langchain-google-genai->langchain[google-genai]->-r requirements.txt (line 2)) (1.26.1)\n",
      "Requirement already satisfied: protobuf!=4.21.0,!=4.21.1,!=4.21.2,!=4.21.3,!=4.21.4,!=4.21.5,<7.0.0,>=3.20.2 in c:\\users\\sheha\\anaconda3\\envs\\bprmlsrash\\lib\\site-packages (from google-ai-generativelanguage<0.7.0,>=0.6.18->langchain-google-genai->langchain[google-genai]->-r requirements.txt (line 2)) (6.32.0)\n",
      "Requirement already satisfied: googleapis-common-protos<2.0.0,>=1.56.2 in c:\\users\\sheha\\anaconda3\\envs\\bprmlsrash\\lib\\site-packages (from google-api-core!=2.0.*,!=2.1.*,!=2.10.*,!=2.2.*,!=2.3.*,!=2.4.*,!=2.5.*,!=2.6.*,!=2.7.*,!=2.8.*,!=2.9.*,<3.0.0,>=1.34.1->google-api-core[grpc]!=2.0.*,!=2.1.*,!=2.10.*,!=2.2.*,!=2.3.*,!=2.4.*,!=2.5.*,!=2.6.*,!=2.7.*,!=2.8.*,!=2.9.*,<3.0.0,>=1.34.1->google-ai-generativelanguage<0.7.0,>=0.6.18->langchain-google-genai->langchain[google-genai]->-r requirements.txt (line 2)) (1.70.0)\n",
      "Requirement already satisfied: grpcio<2.0.0,>=1.33.2 in c:\\users\\sheha\\anaconda3\\envs\\bprmlsrash\\lib\\site-packages (from google-api-core[grpc]!=2.0.*,!=2.1.*,!=2.10.*,!=2.2.*,!=2.3.*,!=2.4.*,!=2.5.*,!=2.6.*,!=2.7.*,!=2.8.*,!=2.9.*,<3.0.0,>=1.34.1->google-ai-generativelanguage<0.7.0,>=0.6.18->langchain-google-genai->langchain[google-genai]->-r requirements.txt (line 2)) (1.74.0)\n",
      "Requirement already satisfied: grpcio-status<2.0.0,>=1.33.2 in c:\\users\\sheha\\anaconda3\\envs\\bprmlsrash\\lib\\site-packages (from google-api-core[grpc]!=2.0.*,!=2.1.*,!=2.10.*,!=2.2.*,!=2.3.*,!=2.4.*,!=2.5.*,!=2.6.*,!=2.7.*,!=2.8.*,!=2.9.*,<3.0.0,>=1.34.1->google-ai-generativelanguage<0.7.0,>=0.6.18->langchain-google-genai->langchain[google-genai]->-r requirements.txt (line 2)) (1.74.0)\n",
      "Requirement already satisfied: cachetools<6.0,>=2.0.0 in c:\\users\\sheha\\anaconda3\\envs\\bprmlsrash\\lib\\site-packages (from google-auth!=2.24.0,!=2.25.0,<3.0.0,>=2.14.1->google-ai-generativelanguage<0.7.0,>=0.6.18->langchain-google-genai->langchain[google-genai]->-r requirements.txt (line 2)) (5.5.2)\n",
      "Requirement already satisfied: pyasn1-modules>=0.2.1 in c:\\users\\sheha\\anaconda3\\envs\\bprmlsrash\\lib\\site-packages (from google-auth!=2.24.0,!=2.25.0,<3.0.0,>=2.14.1->google-ai-generativelanguage<0.7.0,>=0.6.18->langchain-google-genai->langchain[google-genai]->-r requirements.txt (line 2)) (0.4.2)\n",
      "Requirement already satisfied: rsa<5,>=3.1.4 in c:\\users\\sheha\\anaconda3\\envs\\bprmlsrash\\lib\\site-packages (from google-auth!=2.24.0,!=2.25.0,<3.0.0,>=2.14.1->google-ai-generativelanguage<0.7.0,>=0.6.18->langchain-google-genai->langchain[google-genai]->-r requirements.txt (line 2)) (4.9.1)\n",
      "Requirement already satisfied: pyasn1>=0.1.3 in c:\\users\\sheha\\anaconda3\\envs\\bprmlsrash\\lib\\site-packages (from rsa<5,>=3.1.4->google-auth!=2.24.0,!=2.25.0,<3.0.0,>=2.14.1->google-ai-generativelanguage<0.7.0,>=0.6.18->langchain-google-genai->langchain[google-genai]->-r requirements.txt (line 2)) (0.6.1)\n",
      "Note: you may need to restart the kernel to use updated packages.\n"
     ]
    }
   ],
   "source": [
    "%pip install -r requirements.txt\n"
   ]
  },
  {
   "cell_type": "code",
   "execution_count": 6,
   "id": "963075ed",
   "metadata": {},
   "outputs": [
    {
     "name": "stdout",
     "output_type": "stream",
     "text": [
      "sqlite\n",
      "['Album', 'Artist', 'Customer', 'Employee', 'Genre', 'Invoice', 'InvoiceLine', 'MediaType', 'Playlist', 'PlaylistTrack', 'Track']\n"
     ]
    },
    {
     "data": {
      "text/plain": [
       "\"[(1, 'AC/DC'), (2, 'Accept'), (3, 'Aerosmith'), (4, 'Alanis Morissette'), (5, 'Alice In Chains'), (6, 'Antônio Carlos Jobim'), (7, 'Apocalyptica'), (8, 'Audioslave'), (9, 'BackBeat'), (10, 'Billy Cobham')]\""
      ]
     },
     "execution_count": 6,
     "metadata": {},
     "output_type": "execute_result"
    }
   ],
   "source": [
    "from langchain_community.utilities import SQLDatabase\n",
    "\n",
    "db = SQLDatabase.from_uri(\"sqlite:///Chinook.db\")\n",
    "print(db.dialect)\n",
    "print(db.get_usable_table_names())\n",
    "db.run(\"SELECT * FROM Artist LIMIT 10;\")"
   ]
  },
  {
   "cell_type": "markdown",
   "id": "85c6aa50",
   "metadata": {},
   "source": [
    "## Application state"
   ]
  },
  {
   "cell_type": "markdown",
   "id": "61297f7e",
   "metadata": {},
   "source": [
    "##### The LangGraph state of our application controls what data is input to the application, transferred between steps, and output by the application"
   ]
  },
  {
   "cell_type": "code",
   "execution_count": 7,
   "id": "e80aae54",
   "metadata": {},
   "outputs": [],
   "source": [
    "#keep track of the input question, generated query, query result, and generated answer\n",
    "from typing_extensions import TypedDict\n",
    "\n",
    "\n",
    "class State(TypedDict):\n",
    "    question: str\n",
    "    query: str\n",
    "    result: str\n",
    "    answer: str"
   ]
  },
  {
   "cell_type": "markdown",
   "id": "36f08798",
   "metadata": {},
   "source": [
    "## Convert question to SQL query"
   ]
  },
  {
   "cell_type": "code",
   "execution_count": 8,
   "id": "8ca7ba9d",
   "metadata": {},
   "outputs": [
    {
     "name": "stdout",
     "output_type": "stream",
     "text": [
      "Note: you may need to restart the kernel to use updated packages.\n"
     ]
    }
   ],
   "source": [
    "%pip install -qU \"langchain[google-genai]\""
   ]
  },
  {
   "cell_type": "code",
   "execution_count": 9,
   "id": "8bd227b5",
   "metadata": {},
   "outputs": [],
   "source": [
    "import getpass\n",
    "import os\n",
    "\n",
    "if not os.environ.get(\"GOOGLE_API_KEY\"):\n",
    "  os.environ[\"GOOGLE_API_KEY\"] = getpass.getpass(\"Enter API key for Google Gemini: \")\n",
    "\n",
    "from langchain.chat_models import init_chat_model\n",
    "\n",
    "llm = init_chat_model(\"gemini-2.5-flash\", model_provider=\"google_genai\")"
   ]
  },
  {
   "cell_type": "markdown",
   "id": "6de652c5",
   "metadata": {},
   "source": [
    "## Instructions for the model"
   ]
  },
  {
   "cell_type": "code",
   "execution_count": 10,
   "id": "06af5f1f",
   "metadata": {},
   "outputs": [
    {
     "name": "stdout",
     "output_type": "stream",
     "text": [
      "================================\u001b[1m System Message \u001b[0m================================\n",
      "\n",
      "\n",
      "Given an input question, create a syntactically correct \u001b[33;1m\u001b[1;3m{dialect}\u001b[0m query to\n",
      "run to help find the answer. Unless the user specifies in his question a\n",
      "specific number of examples they wish to obtain, always limit your query to\n",
      "at most \u001b[33;1m\u001b[1;3m{top_k}\u001b[0m results. You can order the results by a relevant column to\n",
      "return the most interesting examples in the database.\n",
      "\n",
      "Never query for all the columns from a specific table, only ask for a the\n",
      "few relevant columns given the question.\n",
      "\n",
      "Pay attention to use only the column names that you can see in the schema\n",
      "description. Be careful to not query for columns that do not exist. Also,\n",
      "pay attention to which column is in which table.\n",
      "\n",
      "Only use the following tables:\n",
      "\u001b[33;1m\u001b[1;3m{table_info}\u001b[0m\n",
      "\n",
      "================================\u001b[1m Human Message \u001b[0m=================================\n",
      "\n",
      "Question: \u001b[33;1m\u001b[1;3m{input}\u001b[0m\n"
     ]
    }
   ],
   "source": [
    "from langchain_core.prompts import ChatPromptTemplate\n",
    "\n",
    "system_message = \"\"\"\n",
    "Given an input question, create a syntactically correct {dialect} query to\n",
    "run to help find the answer. Unless the user specifies in his question a\n",
    "specific number of examples they wish to obtain, always limit your query to\n",
    "at most {top_k} results. You can order the results by a relevant column to\n",
    "return the most interesting examples in the database.\n",
    "\n",
    "Never query for all the columns from a specific table, only ask for a the\n",
    "few relevant columns given the question.\n",
    "\n",
    "Pay attention to use only the column names that you can see in the schema\n",
    "description. Be careful to not query for columns that do not exist. Also,\n",
    "pay attention to which column is in which table.\n",
    "\n",
    "Only use the following tables:\n",
    "{table_info}\n",
    "\"\"\"\n",
    "\n",
    "user_prompt = \"Question: {input}\"\n",
    "\n",
    "query_prompt_template = ChatPromptTemplate(\n",
    "    [(\"system\", system_message), (\"user\", user_prompt)]\n",
    ")\n",
    "\n",
    "for message in query_prompt_template.messages:\n",
    "    message.pretty_print()"
   ]
  },
  {
   "cell_type": "markdown",
   "id": "8f07da0b",
   "metadata": {},
   "source": [
    "### Populate requierd input values"
   ]
  },
  {
   "cell_type": "code",
   "execution_count": null,
   "id": "9ceb25ce",
   "metadata": {},
   "outputs": [],
   "source": [
    "from typing_extensions import  Annotated\n",
    "\n",
    "# Defines a structured output format \n",
    "class QueryOutput(TypedDict):\n",
    "    \"\"\"Generated SQL query.\"\"\"\n",
    "\n",
    "    query: Annotated[str, ..., \"Syntactically valid SQL query.\"]\n",
    "\n",
    "# Main function that creates SQL queries\n",
    "def write_query(state: State):\n",
    "    \"\"\"Generate SQL query to fetch information.\"\"\"\n",
    "    prompt = query_prompt_template.invoke(\n",
    "        {\n",
    "            \"dialect\": db.dialect,\n",
    "            \"top_k\": 10,\n",
    "            \"table_info\": db.get_table_info(),\n",
    "            \"input\": state[\"question\"],\n",
    "        }\n",
    "\n",
    "    )\n",
    "\n",
    "    # Configures the LLM to return structured output instead of free text\n",
    "    structured_llm = llm.with_structured_output(QueryOutput)\n",
    "\n",
    "    result = structured_llm.invoke(prompt)\n",
    "    return {\"query\": result[\"query\"]}"
   ]
  },
  {
   "cell_type": "code",
   "execution_count": 12,
   "id": "5fd47ee3",
   "metadata": {},
   "outputs": [
    {
     "data": {
      "text/plain": [
       "{'query': 'SELECT COUNT(EmployeeId) FROM Employee'}"
      ]
     },
     "execution_count": 12,
     "metadata": {},
     "output_type": "execute_result"
    }
   ],
   "source": [
    "write_query({\"question\": \"How many Employees are there?\"})"
   ]
  },
  {
   "cell_type": "markdown",
   "id": "706d8d2e",
   "metadata": {},
   "source": [
    "## Execute query\n"
   ]
  },
  {
   "cell_type": "code",
   "execution_count": null,
   "id": "7374e09f",
   "metadata": {},
   "outputs": [],
   "source": [
    "from langchain_community.tools.sql_database.tool import QuerySQLDatabaseTool\n",
    "\n",
    "\n",
    "def execute_query(state: State):\n",
    "    \"\"\"Execute SQL query.\"\"\"\n",
    "    execute_query_tool = QuerySQLDatabaseTool(db=db)\n",
    "    return {\"result\": execute_query_tool.invoke(state[\"query\"])}"
   ]
  },
  {
   "cell_type": "code",
   "execution_count": null,
   "id": "4f1b15bb",
   "metadata": {},
   "outputs": [],
   "source": []
  }
 ],
 "metadata": {
  "kernelspec": {
   "display_name": "bprmlsRash",
   "language": "python",
   "name": "python3"
  },
  "language_info": {
   "codemirror_mode": {
    "name": "ipython",
    "version": 3
   },
   "file_extension": ".py",
   "mimetype": "text/x-python",
   "name": "python",
   "nbconvert_exporter": "python",
   "pygments_lexer": "ipython3",
   "version": "3.11.13"
  }
 },
 "nbformat": 4,
 "nbformat_minor": 5
}
